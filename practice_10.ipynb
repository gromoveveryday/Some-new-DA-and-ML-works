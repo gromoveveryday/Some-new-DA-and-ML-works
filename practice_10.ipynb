{
 "cells": [
  {
   "cell_type": "code",
   "execution_count": 5,
   "metadata": {},
   "outputs": [],
   "source": [
    "import pandas as pd\n",
    "import category_encoders as ce\n",
    "from sklearn.linear_model import LogisticRegression\n",
    "from sklearn.model_selection import GridSearchCV\n",
    "from optbinning import BinningProcess\n",
    "from sklearn.ensemble import RandomForestClassifier\n",
    "import xgboost as xgb\n",
    "from sklearn.metrics import roc_auc_score, confusion_matrix"
   ]
  },
  {
   "cell_type": "code",
   "execution_count": 6,
   "metadata": {},
   "outputs": [],
   "source": [
    "test = pd.read_excel(r'Z:\\DATASETS\\otp\\test.xls')\n",
    "train = pd.read_excel(r'Z:\\DATASETS\\otp\\train.xls')\n",
    "y_train = train['TARGET']\n",
    "y_test = pd.read_excel(r'Z:\\DATASETS\\otp\\submission.xls')\n",
    "test = pd.concat([test, y_test], axis=1)"
   ]
  },
  {
   "cell_type": "code",
   "execution_count": null,
   "metadata": {},
   "outputs": [],
   "source": [
    "def optimal_model(train, test, n_bins, target_name, y_train, y_test):\n",
    "    train_clean = train.drop(['AGREEMENT_RK', 'GEN_INDUSTRY', 'GEN_TITLE', 'ORG_TP_STATE', 'ORG_TP_FCAPITAL'], axis=1) # По результату анализа убираем ненужные столбцы \n",
    "    test_clean = test.drop(['AGREEMENT_RK', 'GEN_INDUSTRY', 'GEN_TITLE', 'ORG_TP_STATE', 'ORG_TP_FCAPITAL'], axis=1)\n",
    "\n",
    "    for column in train_clean.columns: # Замена пустых объектов на '0' и пустых целочисленных/вещественных значений на 0 \n",
    "        if train_clean[column].dtype == 'object':\n",
    "            train_clean[column] = train_clean[column].fillna('0')\n",
    "        elif train_clean[column].dtype in ['int64', 'float64']:\n",
    "            train_clean[column] = train_clean[column].fillna(0)\n",
    "    \n",
    "    for column in test_clean.columns:\n",
    "        if test_clean[column].dtype == 'object':\n",
    "            test_clean[column] = test_clean[column].fillna('0')\n",
    "        elif test_clean[column].dtype in ['int64', 'float64']:\n",
    "            test_clean[column] = test_clean[column].fillna(0)\n",
    "    \n",
    "    train_clean['PREVIOUS_CARD_NUM_UTILIZED'] = train_clean['PREVIOUS_CARD_NUM_UTILIZED'].astype('object') # Столбец PREVIOUS_CARD_NUM_UTILIZED не является объектом, нужно менянять в обоих фреймах\n",
    "    test_clean['PREVIOUS_CARD_NUM_UTILIZED'] = test_clean['PREVIOUS_CARD_NUM_UTILIZED'].astype('object')\n",
    "\n",
    "    categories = ['SOCSTATUS_WORK_FL', 'SOCSTATUS_PENS_FL', 'GENDER', 'EDUCATION', 'MARITAL_STATUS', \n",
    "              'JOB_DIR', \n",
    "              'REG_ADDRESS_PROVINCE', 'FACT_ADDRESS_PROVINCE', 'POSTAL_ADDRESS_PROVINCE',\n",
    "              'TP_PROVINCE', 'REGION_NM', 'REG_FACT_FL', 'FACT_POST_FL', 'REG_POST_FL',\n",
    "              'REG_FACT_POST_FL', 'REG_FACT_POST_TP_FL', 'FL_PRESENCE_FL', 'OWN_AUTO',\n",
    "              'AUTO_RUS_FL', 'HS_PRESENCE_FL', 'COT_PRESENCE_FL', 'GAR_PRESENCE_FL',\n",
    "              'LAND_PRESENCE_FL', 'DL_DOCUMENT_FL', 'GPF_DOCUMENT_FL', 'FACT_PHONE_FL',\n",
    "              'REG_PHONE_FL', 'GEN_PHONE_FL', 'PREVIOUS_CARD_NUM_UTILIZED'] # Список столбцов-характеристик\n",
    "    \n",
    "    values = ['AGE', 'CHILD_TOTAL', 'DEPENDANTS', 'FAMILY_INCOME', 'PERSONAL_INCOME', 'CREDIT',\n",
    "          'TERM', 'FST_PAYMENT', 'FACT_LIVING_TERM', 'WORK_TIME', 'LOAN_NUM_TOTAL',\n",
    "          'LOAN_NUM_CLOSED', 'LOAN_NUM_PAYM', 'LOAN_DLQ_NUM', 'LOAN_MAX_DLQ',\n",
    "          'LOAN_AVG_DLQ_AMT', 'LOAN_MAX_DLQ_AMT'] # Список столбцов-значений\n",
    "    \n",
    "    for category_name in values: # Оптимальное квантование\n",
    "         \n",
    "         a = list()\n",
    "         a.append(category_name) \n",
    "         binning_process_1 = BinningProcess(a, max_n_bins=n_bins)\n",
    "         x1_1 = train_clean[a].values\n",
    "         x2_1 = train_clean[target_name]\n",
    "         binning_process_1.fit(x1_1, x2_1)\n",
    "         train_clean[category_name] = binning_process_1.transform(x1_1, metric='woe')\n",
    "    encoder_1 = ce.OneHotEncoder(cols=categories)\n",
    "    encoded_train = encoder_1.fit_transform(train_clean)\n",
    "\n",
    "    for category_name in values:\n",
    "         b = list()\n",
    "         b.append(category_name) \n",
    "         binning_process_2 = BinningProcess(b, max_n_bins=n_bins)\n",
    "         x1_2 = test_clean[b].values\n",
    "         x2_2 = test_clean[target_name]\n",
    "         binning_process_2.fit(x1_2, x2_2)\n",
    "         test_clean[category_name] = binning_process_2.transform(x1_2, metric='woe')\n",
    "    encoder_2 = ce.OneHotEncoder(cols=categories)\n",
    "    encoded_test = encoder_2.fit_transform(test_clean)\n",
    "\n",
    "    encoded_train = encoded_train.drop([target_name], axis=1)\n",
    "    encoded_test = encoded_test.drop([target_name, 'POSTAL_ADDRESS_PROVINCE_81'], axis=1) # В проверочных данных новый столбец, которого нет в обучающей выборке\n",
    "\n",
    "    log_reg = LogisticRegression(\n",
    "        penalty='l1', # Штраф - L1\n",
    "        dual=False, # Для другой размерности данных\n",
    "        tol=1e-5, # погрешность остановки алгоритма\n",
    "        C=0.03, # Обратное значение параметра регуляризации\n",
    "        fit_intercept=False, # есть ли b0 (свободный член)\n",
    "        intercept_scaling=1, # масшабирование b0 в случае L1\n",
    "        class_weight='balanced', # \n",
    "        solver='liblinear', # алгоритм оптимизации \n",
    "        max_iter=100, # максимальное количество итераций оптимизации\n",
    "        multi_class='auto', # \n",
    "        verbose=1, # подробный вывод? \n",
    "        warm_start=True, # использоватать предыдущие значения для переобучения \n",
    "        n_jobs=-1, # количество потоков для параллельного выполнения \n",
    "        random_state=42 # контроль случайности\n",
    "    )\n",
    "    \n",
    "    log_reg.fit(encoded_train, y_train)\n",
    "    \n",
    "    pred_4 = log_reg.predict(encoded_test)\n",
    "    y_pred_proba_4 = log_reg.predict_proba(encoded_test)\n",
    "    roc_auc_4 = roc_auc_score(y_test, y_pred_proba_4[:,1])\n",
    "    \n",
    "    return 'AUC модели Лог рег: ', roc_auc_4"
   ]
  },
  {
   "cell_type": "code",
   "execution_count": 8,
   "metadata": {},
   "outputs": [
    {
     "name": "stderr",
     "output_type": "stream",
     "text": [
      "C:\\Users\\Илья\\AppData\\Local\\Packages\\PythonSoftwareFoundation.Python.3.9_qbz5n2kfra8p0\\LocalCache\\local-packages\\Python39\\site-packages\\sklearn\\linear_model\\_logistic.py:1247: FutureWarning: 'multi_class' was deprecated in version 1.5 and will be removed in 1.7. From then on, it will always use 'multinomial'. Leave it to its default value to avoid this warning.\n",
      "  warnings.warn(\n",
      "C:\\Users\\Илья\\AppData\\Local\\Packages\\PythonSoftwareFoundation.Python.3.9_qbz5n2kfra8p0\\LocalCache\\local-packages\\Python39\\site-packages\\sklearn\\linear_model\\_logistic.py:1271: UserWarning: 'n_jobs' > 1 does not have any effect when 'solver' is set to 'liblinear'. Got 'n_jobs' = 4.\n",
      "  warnings.warn(\n"
     ]
    },
    {
     "name": "stdout",
     "output_type": "stream",
     "text": [
      "[LibLinear]"
     ]
    },
    {
     "data": {
      "text/plain": [
       "('AUC модели Лог рег: ', 0.6915016500217108)"
      ]
     },
     "execution_count": 8,
     "metadata": {},
     "output_type": "execute_result"
    }
   ],
   "source": [
    "optimal_model(train=train, test=test, n_bins=100, target_name='TARGET', y_train=y_train, y_test=y_test)"
   ]
  }
 ],
 "metadata": {
  "kernelspec": {
   "display_name": "Python 3",
   "language": "python",
   "name": "python3"
  },
  "language_info": {
   "codemirror_mode": {
    "name": "ipython",
    "version": 3
   },
   "file_extension": ".py",
   "mimetype": "text/x-python",
   "name": "python",
   "nbconvert_exporter": "python",
   "pygments_lexer": "ipython3",
   "version": "3.9.13"
  }
 },
 "nbformat": 4,
 "nbformat_minor": 2
}
