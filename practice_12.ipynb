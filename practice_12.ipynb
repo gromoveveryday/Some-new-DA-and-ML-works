{
 "cells": [
  {
   "cell_type": "code",
   "execution_count": 1,
   "metadata": {},
   "outputs": [],
   "source": [
    "import pandas as pd\n",
    "from sklearn.neighbors import LocalOutlierFactor\n",
    "from sklearn.ensemble import IsolationForest\n",
    "from sklearn.metrics import recall_score, f1_score, accuracy_score\n",
    "\n",
    "z = pd.read_csv(r\"data\\diy.txt\")\n",
    "z = z[z['Frequency'] > 1]\n",
    "z1 = z.drop(['Monetary_Q', 'Monetary_A', 'ClientID'], axis = 1)"
   ]
  },
  {
   "cell_type": "code",
   "execution_count": 2,
   "metadata": {},
   "outputs": [],
   "source": [
    "# Задание по профилю клиента \n",
    "# Проверка алгоритма с novelty=False\n",
    "lof_model_1 = LocalOutlierFactor(\n",
    "    n_neighbors=100,\n",
    "    algorithm='auto',\n",
    "    leaf_size=30,\n",
    "    metric='minkowski',\n",
    "    p=2,\n",
    "    metric_params=None,\n",
    "    contamination='auto',# Доля ожидаемых выбросов от (0;1)\n",
    "    novelty=False,\n",
    "    n_jobs=-1 # Использовать все достпуные ядра процессора\n",
    ")"
   ]
  },
  {
   "cell_type": "code",
   "execution_count": 3,
   "metadata": {},
   "outputs": [
    {
     "name": "stdout",
     "output_type": "stream",
     "text": [
      "Количество аномалий согласно результату LOF: 534\n"
     ]
    }
   ],
   "source": [
    "pred_1 = lof_model_1.fit_predict(z1)\n",
    "z2 = z.copy()\n",
    "z2['is_anomaly'] = pred_1\n",
    "pred_1_1 = z2[z2['is_anomaly'] == -1]['is_anomaly'].values\n",
    "print('Количество аномалий согласно результату LOF:', len(pred_1_1))"
   ]
  },
  {
   "cell_type": "code",
   "execution_count": 4,
   "metadata": {},
   "outputs": [],
   "source": [
    "# Проверка алгоритма с novelty=True\n",
    "z2_1 = z2[z2['is_anomaly'] == -1].drop(['Monetary_Q', 'Monetary_A', 'ClientID', 'is_anomaly'], axis = 1) # Клиенты-аномалии\n",
    "z2_0 = z2[z2['is_anomaly'] == 1].drop(['Monetary_Q', 'Monetary_A', 'ClientID', 'is_anomaly'], axis = 1) # Обычные клиенты"
   ]
  },
  {
   "cell_type": "code",
   "execution_count": 5,
   "metadata": {},
   "outputs": [],
   "source": [
    "lof_model_2 = LocalOutlierFactor(\n",
    "    n_neighbors=100,\n",
    "    algorithm='auto',\n",
    "    leaf_size=30,\n",
    "    metric='minkowski',\n",
    "    p=2,\n",
    "    metric_params=None,\n",
    "    contamination='auto', # Доля ожидаемых выбросов от (0;1)\n",
    "    novelty=True,\n",
    "    n_jobs=-1 # Использовать все достпуные ядра процессора\n",
    ")"
   ]
  },
  {
   "cell_type": "code",
   "execution_count": 6,
   "metadata": {},
   "outputs": [
    {
     "name": "stderr",
     "output_type": "stream",
     "text": [
      "d:\\SPBPU\\1_course\\1_sem\\MLOps\\second_task\\.venv\\Lib\\site-packages\\sklearn\\base.py:493: UserWarning: X does not have valid feature names, but LocalOutlierFactor was fitted with feature names\n",
      "  warnings.warn(\n"
     ]
    }
   ],
   "source": [
    "lof_model_2.fit(z2_0)\n",
    "pred_2 = lof_model_2.predict(z2_1)\n",
    "\n",
    "anomalies = pred_2[pred_2 == -1]"
   ]
  },
  {
   "cell_type": "code",
   "execution_count": 7,
   "metadata": {},
   "outputs": [
    {
     "name": "stdout",
     "output_type": "stream",
     "text": [
      "Количество аномалий согласно результату LOF: 534\n"
     ]
    }
   ],
   "source": [
    "print('Количество аномалий согласно результату LOF:', len(anomalies))"
   ]
  },
  {
   "cell_type": "code",
   "execution_count": 8,
   "metadata": {},
   "outputs": [
    {
     "name": "stdout",
     "output_type": "stream",
     "text": [
      "Recall:  1.0\n",
      "F1-Score: 1.0\n",
      "Accuracy:  1.0\n"
     ]
    }
   ],
   "source": [
    "# Метрики качества:\n",
    "\n",
    "recall1 = recall_score(pred_1_1, pred_2, pos_label=-1)\n",
    "f1_1 = f1_score(pred_1_1, pred_2, pos_label=-1)\n",
    "accuracy1 = accuracy_score(pred_1_1, pred_2)\n",
    "\n",
    "print('Recall: ', recall1)\n",
    "print('F1-Score:', f1_1)\n",
    "print('Accuracy: ', accuracy1)"
   ]
  },
  {
   "cell_type": "code",
   "execution_count": 9,
   "metadata": {},
   "outputs": [],
   "source": [
    "# Isolation forest\n",
    "\n",
    "if_model_1 = IsolationForest(\n",
    "    n_estimators=1000,\n",
    "    max_samples='auto',\n",
    "    contamination='auto',\n",
    "    max_features=1,\n",
    "    bootstrap=False,\n",
    "    n_jobs=None,\n",
    "    random_state=None,\n",
    "    verbose=0,\n",
    "    warm_start=False\n",
    ")"
   ]
  },
  {
   "cell_type": "code",
   "execution_count": 10,
   "metadata": {},
   "outputs": [
    {
     "name": "stdout",
     "output_type": "stream",
     "text": [
      "Количество аномалий согласно результату LOF: 534\n"
     ]
    }
   ],
   "source": [
    "if_model_1.fit\n",
    "pred_3 = lof_model_1.fit_predict(z1)\n",
    "z3 = z.copy()\n",
    "z3['is_anomaly'] = pred_3\n",
    "pred_3_1 = z3[z3['is_anomaly'] == -1]['is_anomaly'].values\n",
    "print('Количество аномалий согласно результату LOF:', len(z3[z3['is_anomaly'] == -1]))"
   ]
  },
  {
   "cell_type": "code",
   "execution_count": 11,
   "metadata": {},
   "outputs": [],
   "source": [
    "if_model_2 = IsolationForest(\n",
    "    n_estimators=1000,\n",
    "    max_samples='auto',\n",
    "    contamination='auto',\n",
    "    max_features=1,\n",
    "    bootstrap=False,\n",
    "    n_jobs=None,\n",
    "    random_state=None,\n",
    "    verbose=0,\n",
    "    warm_start=False\n",
    ")"
   ]
  },
  {
   "cell_type": "code",
   "execution_count": 12,
   "metadata": {},
   "outputs": [],
   "source": [
    "# Проверка алгоритма с fit_predict\n",
    "z3_1 = z3[z3['is_anomaly'] == -1].drop(['Monetary_Q', 'Monetary_A', 'ClientID', 'is_anomaly'], axis = 1) # Клиенты-аномалии\n",
    "z3_0 = z3[z3['is_anomaly'] == 1].drop(['Monetary_Q', 'Monetary_A', 'ClientID', 'is_anomaly'], axis = 1) # Обычные клиенты"
   ]
  },
  {
   "cell_type": "code",
   "execution_count": 13,
   "metadata": {},
   "outputs": [
    {
     "name": "stdout",
     "output_type": "stream",
     "text": [
      "Количество аномалий согласно результату LOF: 534\n"
     ]
    }
   ],
   "source": [
    "if_model_2.fit(z3_0)\n",
    "pred_4 = if_model_2.predict(z3_1)\n",
    "\n",
    "anomalies2 = pred_4[pred_4 == -1]\n",
    "print('Количество аномалий согласно результату LOF:', len(anomalies2))"
   ]
  },
  {
   "cell_type": "code",
   "execution_count": 14,
   "metadata": {},
   "outputs": [
    {
     "name": "stdout",
     "output_type": "stream",
     "text": [
      "Recall:  1.0\n",
      "F1-Score: 1.0\n",
      "Accuracy:  1.0\n"
     ]
    }
   ],
   "source": [
    "# Метрики качества:\n",
    "\n",
    "recall2 = recall_score(pred_3_1, pred_4, pos_label=-1)\n",
    "f1_2 = f1_score(pred_3_1, pred_4, pos_label=-1)\n",
    "accuracy2 = accuracy_score(pred_3_1, pred_4)\n",
    "\n",
    "print('Recall: ', recall2)\n",
    "print('F1-Score:', f1_2)\n",
    "print('Accuracy: ', accuracy2)"
   ]
  },
  {
   "cell_type": "code",
   "execution_count": 16,
   "metadata": {},
   "outputs": [],
   "source": [
    "# Задание с банками\n",
    "\n",
    "df = pd.read_csv(r\"data\\banks.txt\", encoding=\"windows-1251\")"
   ]
  },
  {
   "cell_type": "code",
   "execution_count": 17,
   "metadata": {},
   "outputs": [],
   "source": [
    "df1 = df.drop(['Bank'], axis = 1)"
   ]
  },
  {
   "cell_type": "code",
   "execution_count": 18,
   "metadata": {},
   "outputs": [],
   "source": [
    "# Проверка алгоритма с novelty=False\n",
    "lof_model_3 = LocalOutlierFactor(\n",
    "    n_neighbors=20,\n",
    "    algorithm='auto',\n",
    "    leaf_size=30,\n",
    "    metric='minkowski',\n",
    "    p=2,\n",
    "    metric_params=None,\n",
    "    contamination='auto',# Доля ожидаемых выбросов от (0;1)\n",
    "    novelty=False,\n",
    "    n_jobs=-1 # Использовать все достпуные ядра процессора\n",
    ")"
   ]
  },
  {
   "cell_type": "code",
   "execution_count": 19,
   "metadata": {},
   "outputs": [
    {
     "name": "stdout",
     "output_type": "stream",
     "text": [
      "Количество аномалий согласно результату LOF: 56\n"
     ]
    }
   ],
   "source": [
    "pred_5 = lof_model_3.fit_predict(df1)\n",
    "df2 = df.copy()\n",
    "df2['is_anomaly'] = pred_5\n",
    "pred_5_1 = df2[df2['is_anomaly'] == -1]['is_anomaly'].values\n",
    "print('Количество аномалий согласно результату LOF:', len(pred_5_1))"
   ]
  },
  {
   "cell_type": "code",
   "execution_count": 20,
   "metadata": {},
   "outputs": [],
   "source": [
    "# Проверка алгоритма с novelty=True\n",
    "df2_1 = df2[df2['is_anomaly'] == -1].drop(['Bank'], axis = 1) # Клиенты-аномалии\n",
    "df2_0 = df2[df2['is_anomaly'] == 1].drop(['Bank'], axis = 1) # Обычные клиенты"
   ]
  },
  {
   "cell_type": "code",
   "execution_count": 21,
   "metadata": {},
   "outputs": [],
   "source": [
    "lof_model_4 = LocalOutlierFactor(\n",
    "    n_neighbors=20,\n",
    "    algorithm='auto',\n",
    "    leaf_size=30,\n",
    "    metric='minkowski',\n",
    "    p=2,\n",
    "    metric_params=None,\n",
    "    contamination='auto', # Доля ожидаемых выбросов от (0;1)\n",
    "    novelty=True,\n",
    "    n_jobs=-1 # Использовать все достпуные ядра процессора\n",
    ")"
   ]
  },
  {
   "cell_type": "code",
   "execution_count": 22,
   "metadata": {},
   "outputs": [
    {
     "name": "stdout",
     "output_type": "stream",
     "text": [
      "Количество аномалий согласно результату LOF: 56\n"
     ]
    },
    {
     "name": "stderr",
     "output_type": "stream",
     "text": [
      "d:\\SPBPU\\1_course\\1_sem\\MLOps\\second_task\\.venv\\Lib\\site-packages\\sklearn\\base.py:493: UserWarning: X does not have valid feature names, but LocalOutlierFactor was fitted with feature names\n",
      "  warnings.warn(\n"
     ]
    }
   ],
   "source": [
    "lof_model_4.fit(df2_0)\n",
    "pred_6 = lof_model_4.predict(df2_1)\n",
    "\n",
    "anomalies3 = pred_6[pred_6 == -1]\n",
    "\n",
    "print('Количество аномалий согласно результату LOF:', len(anomalies3))"
   ]
  },
  {
   "cell_type": "code",
   "execution_count": 23,
   "metadata": {},
   "outputs": [
    {
     "name": "stdout",
     "output_type": "stream",
     "text": [
      "Recall:  1.0\n",
      "F1-Score: 1.0\n",
      "Accuracy:  1.0\n"
     ]
    }
   ],
   "source": [
    "# Метрики качества:\n",
    "\n",
    "recall3 = recall_score(pred_5_1, pred_6, pos_label=-1)\n",
    "f1_3 = f1_score(pred_5_1, pred_6, pos_label=-1)\n",
    "accuracy3 = accuracy_score(pred_5_1, pred_6)\n",
    "\n",
    "print('Recall: ', recall3)\n",
    "print('F1-Score:', f1_3)\n",
    "print('Accuracy: ', accuracy3)"
   ]
  },
  {
   "cell_type": "code",
   "execution_count": 24,
   "metadata": {},
   "outputs": [],
   "source": [
    "# Isolation forest\n",
    "\n",
    "if_model_3 = IsolationForest(\n",
    "    n_estimators=100,\n",
    "    max_samples='auto',\n",
    "    contamination='auto',\n",
    "    max_features=1,\n",
    "    bootstrap=False,\n",
    "    n_jobs=None,\n",
    "    random_state=None,\n",
    "    verbose=0,\n",
    "    warm_start=False\n",
    ")"
   ]
  },
  {
   "cell_type": "code",
   "execution_count": 25,
   "metadata": {},
   "outputs": [
    {
     "name": "stdout",
     "output_type": "stream",
     "text": [
      "Количество аномалий согласно результату LOF: 33\n"
     ]
    }
   ],
   "source": [
    "if_model_3.fit\n",
    "pred_7 = if_model_3.fit_predict(df1)\n",
    "df3 = df.copy()\n",
    "df3['is_anomaly'] = pred_7\n",
    "pred_7_1 = df3[df3['is_anomaly'] == -1]['is_anomaly'].values\n",
    "print('Количество аномалий согласно результату LOF:', len(df3[df3['is_anomaly'] == -1]))"
   ]
  },
  {
   "cell_type": "code",
   "execution_count": 26,
   "metadata": {},
   "outputs": [],
   "source": [
    "if_model_4 = IsolationForest(\n",
    "    n_estimators=100,\n",
    "    max_samples='auto',\n",
    "    contamination='auto',\n",
    "    max_features=1,\n",
    "    bootstrap=False,\n",
    "    n_jobs=None,\n",
    "    random_state=None,\n",
    "    verbose=0,\n",
    "    warm_start=False\n",
    ")"
   ]
  },
  {
   "cell_type": "code",
   "execution_count": 27,
   "metadata": {},
   "outputs": [],
   "source": [
    "# Проверка алгоритма с fit_predict\n",
    "df3_1 = df3[df3['is_anomaly'] == -1].drop(['Bank'], axis = 1) # Клиенты-аномалии\n",
    "df3_0 = df3[df3['is_anomaly'] == 1].drop(['Bank'], axis = 1) # Обычные клиенты"
   ]
  },
  {
   "cell_type": "code",
   "execution_count": 28,
   "metadata": {},
   "outputs": [
    {
     "name": "stdout",
     "output_type": "stream",
     "text": [
      "Количество аномалий согласно результату LOF: 33\n"
     ]
    }
   ],
   "source": [
    "if_model_4.fit(df3_0)\n",
    "pred_8 = if_model_4.predict(df3_1)\n",
    "\n",
    "anomalies4 = pred_8[pred_8 == -1]\n",
    "print('Количество аномалий согласно результату LOF:', len(anomalies4))"
   ]
  },
  {
   "cell_type": "code",
   "execution_count": 29,
   "metadata": {},
   "outputs": [
    {
     "name": "stdout",
     "output_type": "stream",
     "text": [
      "Recall:  1.0\n",
      "F1-Score: 1.0\n",
      "Accuracy:  1.0\n"
     ]
    }
   ],
   "source": [
    "# Метрики качества:\n",
    "\n",
    "recall4 = recall_score(pred_7_1, pred_8, pos_label=-1)\n",
    "f1_4 = f1_score(pred_7_1, pred_8, pos_label=-1)\n",
    "accuracy4 = accuracy_score(pred_7_1, pred_8)\n",
    "\n",
    "print('Recall: ', recall4)\n",
    "print('F1-Score:', f1_4)\n",
    "print('Accuracy: ', accuracy4)"
   ]
  }
 ],
 "metadata": {
  "kernelspec": {
   "display_name": "Python 3",
   "language": "python",
   "name": "python3"
  },
  "language_info": {
   "codemirror_mode": {
    "name": "ipython",
    "version": 3
   },
   "file_extension": ".py",
   "mimetype": "text/x-python",
   "name": "python",
   "nbconvert_exporter": "python",
   "pygments_lexer": "ipython3",
   "version": "3.12.5"
  }
 },
 "nbformat": 4,
 "nbformat_minor": 2
}
